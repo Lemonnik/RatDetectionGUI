{
 "cells": [
  {
   "cell_type": "code",
   "execution_count": 3,
   "metadata": {},
   "outputs": [],
   "source": [
    "import pandas as pd\n",
    "import numpy as np\n",
    "import matplotlib\n",
    "import matplotlib.pyplot as plt\n",
    "import math\n",
    "import os"
   ]
  },
  {
   "cell_type": "code",
   "execution_count": 42,
   "metadata": {},
   "outputs": [
    {
     "data": {
      "text/plain": [
       "['(10).txt', '(6).txt', '(7).txt', '(8).txt', '(9).txt']"
      ]
     },
     "execution_count": 42,
     "metadata": {},
     "output_type": "execute_result"
    }
   ],
   "source": [
    "# file names for rats before and after injection\n",
    "before_injection_control = []\n",
    "before_injection_experiment = []\n",
    "after_injection_control = []\n",
    "after_injection_experiment = []\n",
    "\n",
    "control_numbers = [1, 2, 3, 4, 5,]\n",
    "experiment_numbers = [6, 7, 8, 9, 10]\n",
    "before_dir = 'Samples/before_injection'\n",
    "after_dir = 'Samples/after'\n",
    "\n",
    "\n",
    "\n",
    "for filename in os.listdir(after_dir):\n",
    "    if (filename.endswith('.txt') and \n",
    "        (filename.startswith(tuple(str(num) + '.' for num in control_numbers)) or \n",
    "         filename.startswith(tuple(str(num) + '_' for num in control_numbers)))):\n",
    "        after_injection_control.append(filename)\n",
    "    elif filename.endswith('.txt'):\n",
    "          after_injection_experiment.append(filename)\n",
    "\n",
    "for filename in os.listdir(before_dir):\n",
    "    if (filename.endswith('.txt') and \n",
    "        (filename.startswith(tuple('(' + str(num) + ').' for num in control_numbers)) or \n",
    "         filename.startswith(tuple(str(num) + '_' for num in control_numbers)))):\n",
    "        before_injection_control.append(filename)\n",
    "    elif filename.endswith('.txt'):\n",
    "          before_injection_experiment.append(filename)\n",
    "            \n",
    "before_injection_experiment"
   ]
  },
  {
   "cell_type": "code",
   "execution_count": 44,
   "metadata": {},
   "outputs": [],
   "source": [
    "left_lower_all = []\n",
    "left_upper_all = []\n",
    "right_lower_all = []\n",
    "right_upper_all = []"
   ]
  },
  {
   "cell_type": "code",
   "execution_count": 45,
   "metadata": {},
   "outputs": [],
   "source": [
    "# func STEP returns a list of step legths\n",
    "def step(step_list):\n",
    "    steps = []\n",
    "    for i, s in enumerate(step_list[:-1]):\n",
    "        x1 = float(s[1:].split(', ')[0])              ##\n",
    "        y1 = float(s[1:].split(', ')[1])               # get coordinates of current step\n",
    "        x2 = float(step_list[i+1][1:].split(', ')[0])  # and the next one\n",
    "        y2 = float(step_list[i+1][1:].split(', ')[1]) ##\n",
    "        \n",
    "        steps.append(math.hypot(abs(x1-x2), abs(y1-y2)))  # hypotenuse (=step length)\n",
    "    return steps"
   ]
  },
  {
   "cell_type": "code",
   "execution_count": null,
   "metadata": {},
   "outputs": [],
   "source": [
    "before_injection_control\n",
    "before_injection_experiment\n",
    "after_injection_control\n",
    "after_injection_experiment \n",
    "\n",
    "before_control\n",
    "before_experiment\n",
    "after_control\n",
    "after_experiment "
   ]
  },
  {
   "cell_type": "code",
   "execution_count": 46,
   "metadata": {},
   "outputs": [],
   "source": [
    "for file in before_injection_experiment:  # analyse all the files from the list\n",
    "    with open('Samples/before_injection/'+file, 'r') as file_paws: \n",
    "        file_list = file_paws.read().strip().split('\\n')\n",
    "\n",
    "        left_lower = file_list[0][19:]  ## \n",
    "        left_upper = file_list[1][21:]   #  read DATA\n",
    "        right_upper = file_list[2][22:]  #  from input\n",
    "        right_lower = file_list[3][20:] ##\n",
    "\n",
    "        left_lower = [s.strip() for s in left_lower[1:-2].split('),')]     ## \n",
    "        left_upper = [s.strip() for s in left_upper[1:-2].split('),')]      #  convert \n",
    "        right_upper = [s.strip() for s in right_upper[1:-2].split('),')]    #  to list\n",
    "        right_lower = [s.strip() for s in right_lower[1:-2].split('),')]   ##\n",
    "\n",
    "        # print(tuple(float(item) for item in left_lower[0][1:].split(', ')))   # создание нормальных кортежей если вдруг надо\n",
    "\n",
    "        left_lower_all.extend(step(left_lower))    ##\n",
    "        left_upper_all.extend(step(left_upper))     #  lists with\n",
    "        right_lower_all.extend(step(right_lower))   #  lengths of steps\n",
    "        right_upper_all.extend(step(right_upper))  ##"
   ]
  },
  {
   "cell_type": "code",
   "execution_count": 50,
   "metadata": {},
   "outputs": [],
   "source": [
    "y_means = [np.mean(left_lower_all),\n",
    "         np.mean(left_upper_all),\n",
    "         np.mean(right_lower_all),\n",
    "         np.mean(right_upper_all)]\n",
    "\n",
    "y_errors = [np.std(left_lower_all),\n",
    "         np.std(left_upper_all),\n",
    "         np.std(right_lower_all),\n",
    "         np.std(right_upper_all)]"
   ]
  },
  {
   "cell_type": "code",
   "execution_count": 51,
   "metadata": {},
   "outputs": [],
   "source": [
    "with open('Samples/before_experiment.txt', 'w') as f:\n",
    "    f.write(str(y_means)[1:-1])\n",
    "    f.write('\\n')\n",
    "    f.write(str(y_errors)[1:-1])"
   ]
  },
  {
   "cell_type": "code",
   "execution_count": null,
   "metadata": {},
   "outputs": [],
   "source": []
  }
 ],
 "metadata": {
  "kernelspec": {
   "display_name": "Python 3",
   "language": "python",
   "name": "python3"
  },
  "language_info": {
   "codemirror_mode": {
    "name": "ipython",
    "version": 3
   },
   "file_extension": ".py",
   "mimetype": "text/x-python",
   "name": "python",
   "nbconvert_exporter": "python",
   "pygments_lexer": "ipython3",
   "version": "3.8.0"
  }
 },
 "nbformat": 4,
 "nbformat_minor": 4
}
